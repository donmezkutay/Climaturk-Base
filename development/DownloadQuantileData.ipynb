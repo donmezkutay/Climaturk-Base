{
 "cells": [
  {
   "cell_type": "code",
   "execution_count": 2,
   "id": "f9ec37a9-3071-4af6-85cc-487e4eb3b63a",
   "metadata": {},
   "outputs": [],
   "source": [
    "\"\"\"This codes downloads quantile data according to date list.\"\"\"\n",
    "\n",
    "import os\n",
    "import cdsapi\n",
    "import matplotlib.pyplot as plt\n",
    "import xarray as xr\n",
    "import numpy as np"
   ]
  },
  {
   "cell_type": "code",
   "execution_count": 2,
   "id": "76a5ba17-07ed-410f-bc6c-c51d0333a757",
   "metadata": {},
   "outputs": [],
   "source": [
    "# First we need to define the date\n",
    "DateList = np.load(r'C:\\Users\\USER\\JupyterLab\\Climaturk_Site\\GITHUB\\version_17_05_2021\\Climaturk-Base\\src/DateList_Quantile_10042021.npy', allow_pickle=True)\n",
    "\n",
    "# split the data with respect to year,month and day\n",
    "years = [str(i)[:4] for i in DateList[0:,0]]\n",
    "months = [str(i)[4:6] for i in DateList[0:,0]]\n",
    "days = [str(i)[6:] for i in DateList[0:,0]]\n",
    "dones = [i for i in DateList[0:,2]]"
   ]
  },
  {
   "cell_type": "code",
   "execution_count": null,
   "id": "66662896-1c41-44c1-99c8-4497fae78ce4",
   "metadata": {},
   "outputs": [],
   "source": []
  },
  {
   "cell_type": "code",
   "execution_count": null,
   "id": "d0386cca-9f22-426a-bf68-9e95a02a918d",
   "metadata": {},
   "outputs": [],
   "source": []
  },
  {
   "cell_type": "code",
   "execution_count": null,
   "id": "1c227e8e-c473-4cbf-bed3-70f62e5520e4",
   "metadata": {},
   "outputs": [],
   "source": []
  },
  {
   "cell_type": "code",
   "execution_count": null,
   "id": "cf4a3cdf-cf4d-47c1-9d2b-26f42b52d034",
   "metadata": {},
   "outputs": [],
   "source": []
  },
  {
   "cell_type": "code",
   "execution_count": null,
   "id": "cbfa63ce-8d2d-4d5c-8a03-5354ea1be4ee",
   "metadata": {},
   "outputs": [],
   "source": []
  },
  {
   "cell_type": "code",
   "execution_count": 5,
   "id": "7d85b596-bbe3-4c45-8ee7-df7c0b3db4b5",
   "metadata": {},
   "outputs": [],
   "source": [
    "count = 0\n",
    "for i in DateList[:, 2]:\n",
    "    if i == 1:\n",
    "        count += 1\n",
    "        \n",
    "    else:\n",
    "        break\n",
    "        "
   ]
  },
  {
   "cell_type": "code",
   "execution_count": null,
   "id": "333234ea-2edc-4260-b699-7606f3a99848",
   "metadata": {},
   "outputs": [],
   "source": []
  },
  {
   "cell_type": "code",
   "execution_count": 18,
   "id": "cad66748-e7d1-4bbd-94d2-0d12cb13cdbe",
   "metadata": {},
   "outputs": [],
   "source": [
    "#pressure level\n",
    "variables_pressure = [\"geopotential\",]\n",
    "\n",
    "pr_levels = ['500']\n",
    "\n",
    "#single level\n",
    "variables_single = [\"2m_temperature\", \"2m_dewpoint_temperature\",\n",
    "                    \"mean_sea_level_pressure\",]\n",
    "\n",
    "hours = [\"00:00\", \"02:00\", \"04:00\", \"06:00\", \"08:00\", \"10:00\",\n",
    "         \"12:00\", \"14:00\", \"16:00\", \"18:00\", \"20:00\", \"22:00\"]\n",
    "year_list = [str(i) for i in np.arange(1991, 2021, 1, dtype = int)]"
   ]
  },
  {
   "cell_type": "code",
   "execution_count": null,
   "id": "79c5a9b5-6d5e-497f-b8fc-c776822df956",
   "metadata": {},
   "outputs": [],
   "source": []
  },
  {
   "cell_type": "code",
   "execution_count": 4,
   "id": "0f1d913c-77ac-4949-b4d1-5e31469d59b6",
   "metadata": {},
   "outputs": [
    {
     "data": {
      "text/plain": [
       "22500"
      ]
     },
     "execution_count": 4,
     "metadata": {},
     "output_type": "execute_result"
    }
   ],
   "source": [
    "25 * 900"
   ]
  },
  {
   "cell_type": "code",
   "execution_count": 21,
   "id": "85e1135f-9071-42d8-bc37-b030b5d90ffd",
   "metadata": {},
   "outputs": [
    {
     "name": "stdout",
     "output_type": "stream",
     "text": [
      "Directory exists\n"
     ]
    },
    {
     "name": "stderr",
     "output_type": "stream",
     "text": [
      "2021-07-13 22:43:36,209 INFO Welcome to the CDS\n",
      "2021-07-13 22:43:36,219 INFO Sending request to https://cds.climate.copernicus.eu/api/v2/resources/reanalysis-era5-pressure-levels\n",
      "2021-07-13 22:43:36,335 INFO Request is queued\n",
      "2021-07-13 22:43:37,419 INFO Request is running\n",
      "2021-07-13 22:44:26,317 INFO Request is completed\n",
      "2021-07-13 22:44:26,325 INFO Downloading https://download-0005.copernicus-climate.eu/cache-compute-0005/cache/data9/adaptor.mars.internal-1626205454.8970726-21654-15-589c4773-14f2-4ff7-9fcb-af1fb72833e9.nc to D:\\JupyterLab\\Climaturk_Site\\Docs\\STORM_DATA\\20110501\\quantile_pressure_data.nc (6.1M)\n",
      "2021-07-13 22:44:54,653 INFO Download rate 219.3K/s                                                                    \n",
      "2021-07-13 22:44:54,805 INFO Welcome to the CDS\n",
      "2021-07-13 22:44:54,809 INFO Sending request to https://cds.climate.copernicus.eu/api/v2/resources/reanalysis-era5-single-levels\n",
      "2021-07-13 22:44:54,905 INFO Request is queued\n",
      "2021-07-13 22:44:55,985 INFO Request is running\n",
      "2021-07-13 22:46:49,065 INFO Request is completed\n",
      "2021-07-13 22:46:49,074 INFO Downloading https://download-0004.copernicus-climate.eu/cache-compute-0004/cache/data5/adaptor.mars.internal-1626205572.1700833-22760-17-a5aadc0e-1718-4f96-898f-9476d1d987cd.nc to D:\\JupyterLab\\Climaturk_Site\\Docs\\STORM_DATA\\20110501\\quantile_single_data.nc (18.2M)\n",
      "2021-07-13 22:47:51,785 INFO Download rate 297K/s                                                                      \n"
     ]
    }
   ],
   "source": [
    "# Define the path\n",
    "#storm klasörüne geçiş yap\n",
    "for count in range(len(years)):\n",
    "\n",
    "    # If the date has already processed, than continue to next loop.\n",
    "    if DateList[count, 2] == 1: continue\n",
    "        \n",
    "    # -------------------------------------DATA PATH-----------------------------------------------------\n",
    "    pre_data_path = r'D:\\JupyterLab\\Climaturk_Site\\Docs\\STORM_DATA'\n",
    "    os.chdir(pre_data_path)\n",
    "\n",
    "    #storm için yeni data klasörü oluştur\n",
    "    try:\n",
    "        post_data_path = years[count] + months[count] + days[count]\n",
    "        os.mkdir(post_data_path)\n",
    "    except:\n",
    "        print('Directory exists')\n",
    "\n",
    "    full_path_pr = pre_data_path + '\\\\' + post_data_path + '\\\\' + 'quantile_pressure_data.nc'\n",
    "    full_path_sn = pre_data_path + '\\\\' + post_data_path + '\\\\' + 'quantile_single_data.nc'\n",
    "\n",
    "    # ---------------------------------------PRESSURE LEVEL DATA--------------------------------------------------- \n",
    "    #request for downloading pressure levels\n",
    "    c = cdsapi.Client()\n",
    "    c.retrieve(\"reanalysis-era5-pressure-levels\",\n",
    "        {\n",
    "        \"variable\": variables_pressure,\n",
    "        \"pressure_level\": pr_levels,\n",
    "        \"year\": year_list,\n",
    "        \"month\": months[count],\n",
    "        \"day\": days[count],\n",
    "        \"product_type\": \"reanalysis\",\n",
    "        \"area\":'50.00/20.00/30.00/47.00', # NWSE    \n",
    "        \"time\": hours,\n",
    "        \"format\": \"netcdf\"\n",
    "        }, full_path_pr)\n",
    "\n",
    "    # ----------------------------------------SINGLE LEVEL DATA--------------------------------------------------\n",
    "    #request for downloading single levels\n",
    "    c = cdsapi.Client()\n",
    "    c.retrieve(\"reanalysis-era5-single-levels\",\n",
    "        {\n",
    "        \"variable\": variables_single,\n",
    "        \"product_type\": \"reanalysis\",\n",
    "        \"area\":'50.00/20.00/30.00/47.00', # NWSE    \n",
    "        \"year\": year_list,\n",
    "        \"month\": months[count],\n",
    "        \"day\": days[count],\n",
    "        \"time\": hours,\n",
    "        \"format\": \"netcdf\"\n",
    "        }, full_path_sn)\n",
    "    \n",
    "    # change 0 to 1 in corresponding date's [done] column (means the date is completed in downloading)\n",
    "    DateList[count, 2] = 1\n",
    "    np.save(r'C:\\Users\\USER\\JupyterLab\\Climaturk_Site\\GITHUB\\version_17_05_2021\\Climaturk-Base\\src/DateList_Quantile_10042021', DateList)\n",
    "    \n",
    "    break"
   ]
  },
  {
   "cell_type": "code",
   "execution_count": null,
   "id": "39b1a43d-339c-41aa-b3e3-7b8af79cb930",
   "metadata": {},
   "outputs": [],
   "source": []
  }
 ],
 "metadata": {
  "kernelspec": {
   "display_name": "Python 3",
   "language": "python",
   "name": "python3"
  },
  "language_info": {
   "codemirror_mode": {
    "name": "ipython",
    "version": 3
   },
   "file_extension": ".py",
   "mimetype": "text/x-python",
   "name": "python",
   "nbconvert_exporter": "python",
   "pygments_lexer": "ipython3",
   "version": "3.9.4"
  }
 },
 "nbformat": 4,
 "nbformat_minor": 5
}
